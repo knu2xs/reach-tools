{
 "cells": [
  {
   "cell_type": "code",
   "execution_count": 1,
   "id": "833495bf-5ca7-4faa-b940-7fbd20c39bf4",
   "metadata": {},
   "outputs": [],
   "source": [
    "from copy import deepcopy\n",
    "import math\n",
    "from pathlib import Path\n",
    "\n",
    "from arcgis.features import FeatureSet, FeatureLayerCollection, FeatureCollection\n",
    "from arcgis.geometry import SpatialReference\n",
    "from arcgis.gis import GIS, CreateServiceParameter\n",
    "import pandas as pd\n",
    "from tqdm.notebook import tqdm\n",
    "\n",
    "from reach_tools import Reach\n",
    "\n",
    "%load_ext autoreload\n",
    "%autoreload 2"
   ]
  },
  {
   "cell_type": "code",
   "execution_count": 2,
   "id": "d83be014-9456-44b5-bf25-4f93e5e319fc",
   "metadata": {},
   "outputs": [],
   "source": [
    "raw_dir_pth = Path.cwd().parent / f\"data/raw/american_whitewater/\"\n",
    "url = 'https://adventure.maps.arcgis.com'\n",
    "arcgis_client_id = \"2MonB9785a7oRJEl\""
   ]
  },
  {
   "cell_type": "code",
   "execution_count": 3,
   "id": "36510a68-7881-48d8-88e7-afd70a07b767",
   "metadata": {},
   "outputs": [
    {
     "name": "stdout",
     "output_type": "stream",
     "text": [
      "Please sign in to your GIS and paste the code that is obtained below.\n",
      "If a web browser does not automatically open, please navigate to the URL below yourself instead.\n",
      "Opening web browser to navigate to: https://adventure.maps.arcgis.com/sharing/rest/oauth2/authorize?response_type=code&client_id=2MonB9785a7oRJEl&redirect_uri=urn%3Aietf%3Awg%3Aoauth%3A2.0%3Aoob&state=41k8zPlN2UVkvfbi5W418FNx5a76og&allow_verification=false\n"
     ]
    },
    {
     "name": "stdin",
     "output_type": "stream",
     "text": [
      "Enter code obtained on signing in using SAML:  ········\n"
     ]
    },
    {
     "data": {
      "text/html": [
       "GIS @ <a href=\"https://adventure.maps.arcgis.com\">https://adventure.maps.arcgis.com</a>"
      ],
      "text/plain": [
       "GIS @ https://adventure.maps.arcgis.com version:2025.1"
      ]
     },
     "execution_count": 3,
     "metadata": {},
     "output_type": "execute_result"
    }
   ],
   "source": [
    "gis = GIS(url, client_id=arcgis_client_id)\n",
    "\n",
    "gis"
   ]
  },
  {
   "cell_type": "code",
   "execution_count": 4,
   "id": "bff336fb-181c-4698-a693-74a04e25e4ff",
   "metadata": {},
   "outputs": [],
   "source": [
    "service_name = 'river_reaches'\n",
    "overwrite = True"
   ]
  },
  {
   "cell_type": "code",
   "execution_count": 5,
   "id": "a81dec2a-1944-4998-ada1-1c819f382d0f",
   "metadata": {},
   "outputs": [],
   "source": [
    "# get the list of all downloaded reach json files\n",
    "raw_json_lst = sorted(list(raw_dir_pth.glob(\"aw_*.json\")))"
   ]
  },
  {
   "cell_type": "code",
   "execution_count": 6,
   "id": "a90fed96-4a11-4e14-be75-de560a622c34",
   "metadata": {},
   "outputs": [],
   "source": [
    "# get a dictionary of the maximum lengths for all the string columns plus 10 percent rounded up to the next whole integer\n",
    "dict_lst = [{k: len(v) if isinstance(v, str) else None for k, v in Reach.from_aw_json(reach_json).attributes.items()} for reach_json in raw_json_lst]\n",
    "\n",
    "len_dict = pd.DataFrame.from_records(dict_lst).max().dropna().astype(int).apply(lambda val: math.ceil(val * 1.1)).astype(int).to_dict()"
   ]
  },
  {
   "cell_type": "code",
   "execution_count": 7,
   "id": "8249e9f2-9a60-43b7-b8d0-dadce6864112",
   "metadata": {},
   "outputs": [],
   "source": [
    "# get a list of features as dictionary objects\n",
    "feature_lst = [Reach.from_aw_json(reach_json).line_feature.as_dict for reach_json in raw_json_lst]"
   ]
  },
  {
   "cell_type": "code",
   "execution_count": 8,
   "id": "f1adbffe-3385-4063-86bc-8a61229f9f0c",
   "metadata": {},
   "outputs": [],
   "source": [
    "# REF: https://community.esri.com/t5/arcgis-api-for-python-blog/create-a-new-hosted-feature-service-in-arcgis/ba-p/1585791"
   ]
  },
  {
   "cell_type": "code",
   "execution_count": 9,
   "id": "8af1f276-496f-41d4-ae77-5397e164b6c6",
   "metadata": {},
   "outputs": [],
   "source": [
    "# creeate a feature set from the list of dictionary objects\n",
    "fs_prop = FeatureSet.from_dict({\"features\": feature_lst})\n",
    "\n",
    "# add length to the feature set field if a length was found above\n",
    "def add_fld_meta(fld: dict, nullable: bool = True, editable: bool = True) -> dict:\n",
    "\n",
    "    # get field length if applicable\n",
    "    fld_len = len_dict.get(fld['name'])\n",
    "    if fld_len is not None:\n",
    "        fld['length'] = fld_len\n",
    "    \n",
    "    return fld\n",
    "\n",
    "# add length to the fields and exclude the ObjectID field\n",
    "fields = [add_fld_meta(fld) for fld in fs_prop.fields if fld['type'] != 'esriFieldTypeOID']\n",
    "\n",
    "# explicitly add the ObjectID field definition to ensure it is correctly configured\n",
    "oid_fld = {\n",
    "    \"name\" : \"OBJECTID\",\n",
    "    \"type\" : \"esriFieldTypeOID\",\n",
    "    \"actualType\" : \"int\",\n",
    "    \"alias\" : \"OBJECTID\",\n",
    "    \"sqlType\" : \"sqlTypeInteger\",\n",
    "    \"nullable\" : False,\n",
    "    \"editable\" : False\n",
    "}\n",
    "fields.append(oid_fld)"
   ]
  },
  {
   "cell_type": "code",
   "execution_count": 10,
   "id": "64377455-9ac0-4dce-bc8e-ac509d225124",
   "metadata": {},
   "outputs": [],
   "source": [
    "# start creating the definition\n",
    "lyr_def = {\n",
    "    \"type\" : \"Feature Layer\",\n",
    "    \"name\" : service_name,\n",
    "    \"geometryType\" : \"esriGeometryPolyline\", # esriGeometryPolygon, esriGeometryPolyline, esriGeometryPoint\n",
    "    \"indexes\" : [ # required index for Primary Key\n",
    "        {\n",
    "            \"name\" : \"PK_IDX\",\n",
    "            \"fields\" : \"OBJECTID\",\n",
    "            \"isAscending\" : True,\n",
    "            \"isUnique\" : True,\n",
    "            \"description\" : \"clustered, unique, primary key\"\n",
    "        }\n",
    "    ],\n",
    "    \"objectIdField\" : \"OBJECTID\",\n",
    "    \"uniqueField\" : { # a unique field is required\n",
    "        \"name\" : \"OBJECTID\",\n",
    "        \"isSystemMaintained\" : True\n",
    "    },\n",
    "    \"spatialReference\" : {\n",
    "        \"wkid\" : 4326,\n",
    "    }, \n",
    "}\n",
    "\n",
    "# add the fields to the definition\n",
    "lyr_def['fields'] = fields"
   ]
  },
  {
   "cell_type": "code",
   "execution_count": 11,
   "id": "87953a04-bd1c-4c40-a07d-76a49cd05039",
   "metadata": {},
   "outputs": [
    {
     "name": "stderr",
     "output_type": "stream",
     "text": [
      "Recycle bin not enabled on this organization. Permanent delete parameter ignored.\n"
     ]
    }
   ],
   "source": [
    "# if the service already exists, remove it\n",
    "existing_lst = gis.content.search(service_name)\n",
    "\n",
    "if len(existing_lst) > 0 and overwrite:\n",
    "    gis.content.delete_items(existing_lst)\n",
    "\n",
    "elif len(existing_lst) > 0:\n",
    "    raise FileExistsError(f'Service \"{service_name}\" already exists in the ArcGIS Online organization.')"
   ]
  },
  {
   "cell_type": "code",
   "execution_count": 12,
   "id": "4702ecf4-deeb-46ed-8fdf-5ff6328f3fee",
   "metadata": {},
   "outputs": [],
   "source": [
    "# create a new empty service item\n",
    "new_svc_itm = gis.content.create_service(service_name, service_type='featureService', wkid=4326)"
   ]
  },
  {
   "cell_type": "code",
   "execution_count": 13,
   "id": "48de5583-e1b2-4571-9948-b4a5a450a2f9",
   "metadata": {},
   "outputs": [
    {
     "data": {
      "text/html": [
       "<div class=\"item_container\" style=\"height: auto; overflow: hidden; border: 1px solid #cfcfcf; border-radius: 2px; background: #f6fafa; line-height: 1.21429em; padding: 10px;\">\n",
       "                    <div class=\"item_left\" style=\"width: 210px; float: left;\">\n",
       "                       <a href='https://adventure.maps.arcgis.com/home/item.html?id=1b079f3db1634f51998c4642cdfa3ca8' target='_blank'>\n",
       "                        <img src='http://static.arcgis.com/images/desktopapp.png' class=\"itemThumbnail\">\n",
       "                       </a>\n",
       "                    </div>\n",
       "\n",
       "                    <div class=\"item_right\"     style=\"float: none; width: auto; overflow: hidden;\">\n",
       "                        <a href='https://adventure.maps.arcgis.com/home/item.html?id=1b079f3db1634f51998c4642cdfa3ca8' target='_blank'><b>river_reaches</b>\n",
       "                        </a>\n",
       "                        <br/><br/><img src='https://adventure.maps.arcgis.com/home/js/jsapi/esri/css/images/item_type_icons/featureshosted16.png' style=\"vertical-align:middle;\" width=16 height=16>Feature Layer Collection by jmccune_personal\n",
       "                        <br/>Last Modified: May 13, 2025\n",
       "                        <br/>0 comments, 0 views\n",
       "                    </div>\n",
       "                </div>\n",
       "                "
      ],
      "text/plain": [
       "<Item title:\"river_reaches\" type:Feature Layer Collection owner:jmccune_personal>"
      ]
     },
     "execution_count": 13,
     "metadata": {},
     "output_type": "execute_result"
    }
   ],
   "source": [
    "new_svc_itm"
   ]
  },
  {
   "cell_type": "code",
   "execution_count": 14,
   "id": "eb4f8f29-10de-49a3-8881-8be9b98649e2",
   "metadata": {},
   "outputs": [
    {
     "data": {
      "text/plain": [
       "{'success': True, 'layers': [{'name': 'river_reaches', 'id': 0}]}"
      ]
     },
     "execution_count": 14,
     "metadata": {},
     "output_type": "execute_result"
    }
   ],
   "source": [
    "# create a feature layer collection\n",
    "flc = FeatureLayerCollection.fromitem(new_svc_itm)\n",
    "\n",
    "# add the layer definition to the item\n",
    "flc.manager.add_to_definition({'layers': [lyr_def]})"
   ]
  },
  {
   "cell_type": "code",
   "execution_count": 15,
   "id": "e702bd46-2940-46c5-9a1f-0ec85447a64a",
   "metadata": {},
   "outputs": [],
   "source": [
    "# get the newly created layer to work with\n",
    "lyr = new_svc_itm.layers[0]"
   ]
  },
  {
   "cell_type": "code",
   "execution_count": 16,
   "id": "e74152d9-1376-4529-8d6b-686ca81f98ec",
   "metadata": {},
   "outputs": [],
   "source": [
    "chunk_size = 200\n",
    "upload_chunks = [feature_lst[idx: idx + chunk_size] for idx in range(0, len(feature_lst), chunk_size)]"
   ]
  },
  {
   "cell_type": "code",
   "execution_count": 17,
   "id": "93f8dab4-114c-44a5-a0da-89d8b633feac",
   "metadata": {},
   "outputs": [
    {
     "data": {
      "application/vnd.jupyter.widget-view+json": {
       "model_id": "b1f1bacef6704898ab9be4d65701c0f4",
       "version_major": 2,
       "version_minor": 0
      },
      "text/plain": [
       "  0%|          | 0/26 [00:00<?, ?it/s]"
      ]
     },
     "metadata": {},
     "output_type": "display_data"
    }
   ],
   "source": [
    "for chnk in tqdm(upload_chunks):\n",
    "    lyr.edit_features(adds=chnk)"
   ]
  },
  {
   "cell_type": "code",
   "execution_count": null,
   "id": "7a79b6d7-1d10-4a0e-9703-a151c2d4189f",
   "metadata": {},
   "outputs": [],
   "source": []
  }
 ],
 "metadata": {
  "kernelspec": {
   "display_name": "Python 3 (ipykernel)",
   "language": "python",
   "name": "python3"
  },
  "language_info": {
   "codemirror_mode": {
    "name": "ipython",
    "version": 3
   },
   "file_extension": ".py",
   "mimetype": "text/x-python",
   "name": "python",
   "nbconvert_exporter": "python",
   "pygments_lexer": "ipython3",
   "version": "3.11.10"
  }
 },
 "nbformat": 4,
 "nbformat_minor": 5
}
