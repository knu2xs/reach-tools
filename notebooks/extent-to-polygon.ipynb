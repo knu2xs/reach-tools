{
 "cells": [
  {
   "cell_type": "code",
   "execution_count": 1,
   "id": "b9948dc1-d5e4-43fd-8b56-9bc80374f96f",
   "metadata": {},
   "outputs": [],
   "source": [
    "from pathlib import Path\n",
    "\n",
    "from reach_tools import Reach"
   ]
  },
  {
   "cell_type": "code",
   "execution_count": 2,
   "id": "bc62b161-7a27-4b43-af1b-2529eb4c2d15",
   "metadata": {},
   "outputs": [],
   "source": [
    "aw_json_pth = Path.cwd().parent / 'data/raw/american_whitewater/aw_00003411.json'"
   ]
  },
  {
   "cell_type": "code",
   "execution_count": 3,
   "id": "31f3ecb9-9683-4761-b727-c17951d15c72",
   "metadata": {},
   "outputs": [],
   "source": [
    "reach = Reach.from_aw_json(aw_json_pth)"
   ]
  },
  {
   "cell_type": "code",
   "execution_count": 4,
   "id": "53775bab-bacf-4a6b-8954-65b4e89cc499",
   "metadata": {},
   "outputs": [],
   "source": [
    "aw_raw_dir = Path.cwd().parent / 'data/raw/american_whitewater'"
   ]
  },
  {
   "cell_type": "code",
   "execution_count": 5,
   "id": "fac70e68-e4d6-4764-96ee-036a5d718430",
   "metadata": {},
   "outputs": [
    {
     "name": "stdout",
     "output_type": "stream",
     "text": [
      "aw_00001372\n"
     ]
    },
    {
     "ename": "AttributeError",
     "evalue": "'NoneType' object has no attribute 'get'",
     "output_type": "error",
     "traceback": [
      "\u001b[0;31m---------------------------------------------------------------------------\u001b[0m",
      "\u001b[0;31mAttributeError\u001b[0m                            Traceback (most recent call last)",
      "Cell \u001b[0;32mIn[5], line 7\u001b[0m\n\u001b[1;32m      5\u001b[0m \u001b[38;5;28;01mexcept\u001b[39;00m \u001b[38;5;167;01mException\u001b[39;00m \u001b[38;5;28;01mas\u001b[39;00m e:\n\u001b[1;32m      6\u001b[0m     \u001b[38;5;28mprint\u001b[39m(raw_json\u001b[38;5;241m.\u001b[39mstem)\n\u001b[0;32m----> 7\u001b[0m     \u001b[38;5;28;01mraise\u001b[39;00m e\n",
      "Cell \u001b[0;32mIn[5], line 4\u001b[0m\n\u001b[1;32m      2\u001b[0m \u001b[38;5;28;01mtry\u001b[39;00m:\n\u001b[1;32m      3\u001b[0m     reach \u001b[38;5;241m=\u001b[39m Reach(raw_json)\n\u001b[0;32m----> 4\u001b[0m     feature \u001b[38;5;241m=\u001b[39m \u001b[43mreach\u001b[49m\u001b[38;5;241;43m.\u001b[39;49m\u001b[43mline_feature\u001b[49m\n\u001b[1;32m      5\u001b[0m \u001b[38;5;28;01mexcept\u001b[39;00m \u001b[38;5;167;01mException\u001b[39;00m \u001b[38;5;28;01mas\u001b[39;00m e:\n\u001b[1;32m      6\u001b[0m     \u001b[38;5;28mprint\u001b[39m(raw_json\u001b[38;5;241m.\u001b[39mstem)\n",
      "File \u001b[0;32m~/projects/reach-tools/src/reach_tools/__init__.py:835\u001b[0m, in \u001b[0;36mReach.line_feature\u001b[0;34m(self)\u001b[0m\n\u001b[1;32m    832\u001b[0m \u001b[38;5;129m@property\u001b[39m\n\u001b[1;32m    833\u001b[0m \u001b[38;5;28;01mdef\u001b[39;00m \u001b[38;5;21mline_feature\u001b[39m(\u001b[38;5;28mself\u001b[39m) \u001b[38;5;241m-\u001b[39m\u001b[38;5;241m>\u001b[39m Feature:\n\u001b[1;32m    834\u001b[0m \u001b[38;5;250m    \u001b[39m\u001b[38;5;124;03m\"\"\"ArcGIS Python API line Feature object for the reach.\"\"\"\u001b[39;00m\n\u001b[0;32m--> 835\u001b[0m     \u001b[38;5;28;01mif\u001b[39;00m \u001b[38;5;28;43mself\u001b[39;49m\u001b[38;5;241;43m.\u001b[39;49m\u001b[43mgeometry\u001b[49m:\n\u001b[1;32m    836\u001b[0m         feat \u001b[38;5;241m=\u001b[39m Feature(geometry\u001b[38;5;241m=\u001b[39m\u001b[38;5;28mself\u001b[39m\u001b[38;5;241m.\u001b[39mgeometry, attributes\u001b[38;5;241m=\u001b[39m\u001b[38;5;28mself\u001b[39m\u001b[38;5;241m.\u001b[39mattributes)\n\u001b[1;32m    837\u001b[0m     \u001b[38;5;28;01melse\u001b[39;00m:\n",
      "File \u001b[0;32m~/projects/reach-tools/env/lib/python3.12/functools.py:998\u001b[0m, in \u001b[0;36mcached_property.__get__\u001b[0;34m(self, instance, owner)\u001b[0m\n\u001b[1;32m    996\u001b[0m val \u001b[38;5;241m=\u001b[39m cache\u001b[38;5;241m.\u001b[39mget(\u001b[38;5;28mself\u001b[39m\u001b[38;5;241m.\u001b[39mattrname, _NOT_FOUND)\n\u001b[1;32m    997\u001b[0m \u001b[38;5;28;01mif\u001b[39;00m val \u001b[38;5;129;01mis\u001b[39;00m _NOT_FOUND:\n\u001b[0;32m--> 998\u001b[0m     val \u001b[38;5;241m=\u001b[39m \u001b[38;5;28;43mself\u001b[39;49m\u001b[38;5;241;43m.\u001b[39;49m\u001b[43mfunc\u001b[49m\u001b[43m(\u001b[49m\u001b[43minstance\u001b[49m\u001b[43m)\u001b[49m\n\u001b[1;32m    999\u001b[0m     \u001b[38;5;28;01mtry\u001b[39;00m:\n\u001b[1;32m   1000\u001b[0m         cache[\u001b[38;5;28mself\u001b[39m\u001b[38;5;241m.\u001b[39mattrname] \u001b[38;5;241m=\u001b[39m val\n",
      "File \u001b[0;32m~/projects/reach-tools/src/reach_tools/__init__.py:772\u001b[0m, in \u001b[0;36mReach.geometry\u001b[0;34m(self)\u001b[0m\n\u001b[1;32m    769\u001b[0m \u001b[38;5;129m@cached_property\u001b[39m\n\u001b[1;32m    770\u001b[0m \u001b[38;5;28;01mdef\u001b[39;00m \u001b[38;5;21mgeometry\u001b[39m(\u001b[38;5;28mself\u001b[39m) \u001b[38;5;241m-\u001b[39m\u001b[38;5;241m>\u001b[39m Polygon:\n\u001b[1;32m    771\u001b[0m \u001b[38;5;250m    \u001b[39m\u001b[38;5;124;03m\"\"\"Reach polyline geometry.\"\"\"\u001b[39;00m\n\u001b[0;32m--> 772\u001b[0m     geojson \u001b[38;5;241m=\u001b[39m \u001b[38;5;28;43mself\u001b[39;49m\u001b[38;5;241;43m.\u001b[39;49m\u001b[43m_main_json\u001b[49m\u001b[38;5;241;43m.\u001b[39;49m\u001b[43mget\u001b[49m(\u001b[38;5;124m\"\u001b[39m\u001b[38;5;124minfo\u001b[39m\u001b[38;5;124m\"\u001b[39m)\u001b[38;5;241m.\u001b[39mget(\u001b[38;5;124m\"\u001b[39m\u001b[38;5;124mgeom\u001b[39m\u001b[38;5;124m\"\u001b[39m)\n\u001b[1;32m    773\u001b[0m     geom \u001b[38;5;241m=\u001b[39m Polygon(geojson, sr\u001b[38;5;241m=\u001b[39m\u001b[38;5;241m4326\u001b[39m)\n\u001b[1;32m    774\u001b[0m     \u001b[38;5;28;01mreturn\u001b[39;00m geom\n",
      "\u001b[0;31mAttributeError\u001b[0m: 'NoneType' object has no attribute 'get'"
     ]
    }
   ],
   "source": [
    "for raw_json in aw_raw_dir.glob('aw_*.json'):\n",
    "    try:\n",
    "        reach = Reach(raw_json)\n",
    "        feature = reach.line_feature\n",
    "    except Exception as e:\n",
    "        print(raw_json.stem)\n",
    "        raise e"
   ]
  },
  {
   "cell_type": "code",
   "execution_count": null,
   "id": "ded7c94f-dd11-420e-87c4-1f85876779d7",
   "metadata": {},
   "outputs": [],
   "source": []
  }
 ],
 "metadata": {
  "kernelspec": {
   "display_name": "Python 3 (ipykernel)",
   "language": "python",
   "name": "python3"
  },
  "language_info": {
   "codemirror_mode": {
    "name": "ipython",
    "version": 3
   },
   "file_extension": ".py",
   "mimetype": "text/x-python",
   "name": "python",
   "nbconvert_exporter": "python",
   "pygments_lexer": "ipython3",
   "version": "3.12.10"
  }
 },
 "nbformat": 4,
 "nbformat_minor": 5
}
