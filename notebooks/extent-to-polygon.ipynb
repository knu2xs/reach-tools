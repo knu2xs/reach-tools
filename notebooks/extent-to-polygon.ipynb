{
 "cells": [
  {
   "cell_type": "code",
   "execution_count": 1,
   "id": "b9948dc1-d5e4-43fd-8b56-9bc80374f96f",
   "metadata": {},
   "outputs": [],
   "source": [
    "from pathlib import Path\n",
    "\n",
    "from reach_tools import Reach"
   ]
  },
  {
   "cell_type": "code",
   "execution_count": 2,
   "id": "bc62b161-7a27-4b43-af1b-2529eb4c2d15",
   "metadata": {},
   "outputs": [],
   "source": [
    "aw_json_pth = Path.cwd().parent / 'data/raw/american_whitewater/aw_00003411.json'"
   ]
  },
  {
   "cell_type": "code",
   "execution_count": 3,
   "id": "31f3ecb9-9683-4761-b727-c17951d15c72",
   "metadata": {},
   "outputs": [],
   "source": [
    "reach = Reach.from_aw_json(aw_json_pth)"
   ]
  },
  {
   "cell_type": "code",
   "execution_count": 4,
   "id": "53775bab-bacf-4a6b-8954-65b4e89cc499",
   "metadata": {},
   "outputs": [],
   "source": [
    "aw_raw_dir = Path.cwd().parent / 'data/raw/american_whitewater'"
   ]
  },
  {
   "cell_type": "code",
   "execution_count": 5,
   "id": "fac70e68-e4d6-4764-96ee-036a5d718430",
   "metadata": {},
   "outputs": [
    {
     "name": "stdout",
     "output_type": "stream",
     "text": [
      "aw_00001372\n"
     ]
    },
    {
     "ename": "AttributeError",
     "evalue": "'NoneType' object has no attribute 'get'",
     "output_type": "error",
     "traceback": [
      "\u001B[0;31m---------------------------------------------------------------------------\u001B[0m",
      "\u001B[0;31mAttributeError\u001B[0m                            Traceback (most recent call last)",
      "Cell \u001B[0;32mIn[5], line 7\u001B[0m\n\u001B[1;32m      5\u001B[0m \u001B[38;5;28;01mexcept\u001B[39;00m \u001B[38;5;167;01mException\u001B[39;00m \u001B[38;5;28;01mas\u001B[39;00m e:\n\u001B[1;32m      6\u001B[0m     \u001B[38;5;28mprint\u001B[39m(raw_json\u001B[38;5;241m.\u001B[39mstem)\n\u001B[0;32m----> 7\u001B[0m     \u001B[38;5;28;01mraise\u001B[39;00m e\n",
      "Cell \u001B[0;32mIn[5], line 4\u001B[0m\n\u001B[1;32m      2\u001B[0m \u001B[38;5;28;01mtry\u001B[39;00m:\n\u001B[1;32m      3\u001B[0m     reach \u001B[38;5;241m=\u001B[39m Reach(raw_json)\n\u001B[0;32m----> 4\u001B[0m     feature \u001B[38;5;241m=\u001B[39m \u001B[43mreach\u001B[49m\u001B[38;5;241;43m.\u001B[39;49m\u001B[43mline_feature\u001B[49m\n\u001B[1;32m      5\u001B[0m \u001B[38;5;28;01mexcept\u001B[39;00m \u001B[38;5;167;01mException\u001B[39;00m \u001B[38;5;28;01mas\u001B[39;00m e:\n\u001B[1;32m      6\u001B[0m     \u001B[38;5;28mprint\u001B[39m(raw_json\u001B[38;5;241m.\u001B[39mstem)\n",
      "File \u001B[0;32m~/projects/reach-tools/src/reach_tools/__init__.py:835\u001B[0m, in \u001B[0;36mReach.line_feature\u001B[0;34m(self)\u001B[0m\n\u001B[1;32m    832\u001B[0m \u001B[38;5;129m@property\u001B[39m\n\u001B[1;32m    833\u001B[0m \u001B[38;5;28;01mdef\u001B[39;00m \u001B[38;5;21mline_feature\u001B[39m(\u001B[38;5;28mself\u001B[39m) \u001B[38;5;241m-\u001B[39m\u001B[38;5;241m>\u001B[39m Feature:\n\u001B[1;32m    834\u001B[0m \u001B[38;5;250m    \u001B[39m\u001B[38;5;124;03m\"\"\"ArcGIS Python API line Feature object for the reach.\"\"\"\u001B[39;00m\n\u001B[0;32m--> 835\u001B[0m     \u001B[38;5;28;01mif\u001B[39;00m \u001B[38;5;28;43mself\u001B[39;49m\u001B[38;5;241;43m.\u001B[39;49m\u001B[43mgeometry\u001B[49m:\n\u001B[1;32m    836\u001B[0m         feat \u001B[38;5;241m=\u001B[39m Feature(geometry\u001B[38;5;241m=\u001B[39m\u001B[38;5;28mself\u001B[39m\u001B[38;5;241m.\u001B[39mgeometry, attributes\u001B[38;5;241m=\u001B[39m\u001B[38;5;28mself\u001B[39m\u001B[38;5;241m.\u001B[39mattributes)\n\u001B[1;32m    837\u001B[0m     \u001B[38;5;28;01melse\u001B[39;00m:\n",
      "File \u001B[0;32m~/projects/reach-tools/env/lib/python3.12/functools.py:998\u001B[0m, in \u001B[0;36mcached_property.__get__\u001B[0;34m(self, instance, owner)\u001B[0m\n\u001B[1;32m    996\u001B[0m val \u001B[38;5;241m=\u001B[39m cache\u001B[38;5;241m.\u001B[39mget(\u001B[38;5;28mself\u001B[39m\u001B[38;5;241m.\u001B[39mattrname, _NOT_FOUND)\n\u001B[1;32m    997\u001B[0m \u001B[38;5;28;01mif\u001B[39;00m val \u001B[38;5;129;01mis\u001B[39;00m _NOT_FOUND:\n\u001B[0;32m--> 998\u001B[0m     val \u001B[38;5;241m=\u001B[39m \u001B[38;5;28;43mself\u001B[39;49m\u001B[38;5;241;43m.\u001B[39;49m\u001B[43mfunc\u001B[49m\u001B[43m(\u001B[49m\u001B[43minstance\u001B[49m\u001B[43m)\u001B[49m\n\u001B[1;32m    999\u001B[0m     \u001B[38;5;28;01mtry\u001B[39;00m:\n\u001B[1;32m   1000\u001B[0m         cache[\u001B[38;5;28mself\u001B[39m\u001B[38;5;241m.\u001B[39mattrname] \u001B[38;5;241m=\u001B[39m val\n",
      "File \u001B[0;32m~/projects/reach-tools/src/reach_tools/__init__.py:772\u001B[0m, in \u001B[0;36mReach.geometry\u001B[0;34m(self)\u001B[0m\n\u001B[1;32m    769\u001B[0m \u001B[38;5;129m@cached_property\u001B[39m\n\u001B[1;32m    770\u001B[0m \u001B[38;5;28;01mdef\u001B[39;00m \u001B[38;5;21mgeometry\u001B[39m(\u001B[38;5;28mself\u001B[39m) \u001B[38;5;241m-\u001B[39m\u001B[38;5;241m>\u001B[39m Polygon:\n\u001B[1;32m    771\u001B[0m \u001B[38;5;250m    \u001B[39m\u001B[38;5;124;03m\"\"\"Reach polyline geometry.\"\"\"\u001B[39;00m\n\u001B[0;32m--> 772\u001B[0m     geojson \u001B[38;5;241m=\u001B[39m \u001B[38;5;28;43mself\u001B[39;49m\u001B[38;5;241;43m.\u001B[39;49m\u001B[43m_main_json\u001B[49m\u001B[38;5;241;43m.\u001B[39;49m\u001B[43mget\u001B[49m(\u001B[38;5;124m\"\u001B[39m\u001B[38;5;124minfo\u001B[39m\u001B[38;5;124m\"\u001B[39m)\u001B[38;5;241m.\u001B[39mget(\u001B[38;5;124m\"\u001B[39m\u001B[38;5;124mgeom\u001B[39m\u001B[38;5;124m\"\u001B[39m)\n\u001B[1;32m    773\u001B[0m     geom \u001B[38;5;241m=\u001B[39m Polygon(geojson, sr\u001B[38;5;241m=\u001B[39m\u001B[38;5;241m4326\u001B[39m)\n\u001B[1;32m    774\u001B[0m     \u001B[38;5;28;01mreturn\u001B[39;00m geom\n",
      "\u001B[0;31mAttributeError\u001B[0m: 'NoneType' object has no attribute 'get'"
     ]
    }
   ],
   "source": [
    "for raw_json in aw_raw_dir.glob('aw_*.json'):\n",
    "    try:\n",
    "        reach = Reach(raw_json)\n",
    "        feature = reach.line_feature\n",
    "    except Exception as e:\n",
    "        print(raw_json.stem)\n",
    "        raise e"
   ]
  },
  {
   "cell_type": "code",
   "execution_count": null,
   "id": "ded7c94f-dd11-420e-87c4-1f85876779d7",
   "metadata": {},
   "outputs": [],
   "source": []
  }
 ],
 "metadata": {
  "kernelspec": {
   "display_name": "Python 3 (ipykernel)",
   "language": "python",
   "name": "python3"
  },
  "language_info": {
   "codemirror_mode": {
    "name": "ipython",
    "version": 3
   },
   "file_extension": ".py",
   "mimetype": "text/x-python",
   "name": "python",
   "nbconvert_exporter": "python",
   "pygments_lexer": "ipython3",
   "version": "3.12.10"
  }
 },
 "nbformat": 4,
 "nbformat_minor": 5
}
