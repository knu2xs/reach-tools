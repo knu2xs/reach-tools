{
 "cells": [
  {
   "cell_type": "code",
   "execution_count": 1,
   "id": "833495bf-5ca7-4faa-b940-7fbd20c39bf4",
   "metadata": {},
   "outputs": [],
   "source": [
    "from copy import deepcopy\n",
    "import math\n",
    "from pathlib import Path\n",
    "\n",
    "from arcgis.features import FeatureSet, FeatureLayerCollection, FeatureCollection\n",
    "from arcgis.geometry import SpatialReference\n",
    "from arcgis.gis import GIS, CreateServiceParameter\n",
    "import pandas as pd\n",
    "from tqdm.notebook import tqdm\n",
    "\n",
    "from reach_tools import Reach"
   ]
  },
  {
   "cell_type": "code",
   "execution_count": 2,
   "id": "d83be014-9456-44b5-bf25-4f93e5e319fc",
   "metadata": {},
   "outputs": [],
   "source": [
    "raw_dir_pth = Path.cwd().parent / f\"data/raw/american_whitewater/\"\n",
    "url = 'https://adventure.maps.arcgis.com'\n",
    "arcgis_client_id = \"2MonB9785a7oRJEl\""
   ]
  },
  {
   "cell_type": "code",
   "execution_count": 3,
   "id": "36510a68-7881-48d8-88e7-afd70a07b767",
   "metadata": {},
   "outputs": [
    {
     "name": "stdout",
     "output_type": "stream",
     "text": [
      "Please sign in to your GIS and paste the code that is obtained below.\n",
      "If a web browser does not automatically open, please navigate to the URL below yourself instead.\n",
      "Opening web browser to navigate to: https://adventure.maps.arcgis.com/sharing/rest/oauth2/authorize?response_type=code&client_id=2MonB9785a7oRJEl&redirect_uri=urn%3Aietf%3Awg%3Aoauth%3A2.0%3Aoob&state=zRUgfa24DrGCByam3KtZAG1xbEmSDD&allow_verification=false\n"
     ]
    },
    {
     "name": "stdin",
     "output_type": "stream",
     "text": [
      "Enter code obtained on signing in using SAML:  ········\n"
     ]
    },
    {
     "data": {
      "text/html": [
       "GIS @ <a href=\"https://adventure.maps.arcgis.com\">https://adventure.maps.arcgis.com</a>"
      ],
      "text/plain": [
       "GIS @ https://adventure.maps.arcgis.com version:2025.1"
      ]
     },
     "execution_count": 3,
     "metadata": {},
     "output_type": "execute_result"
    }
   ],
   "source": [
    "gis = GIS(url, client_id=arcgis_client_id)\n",
    "\n",
    "gis"
   ]
  },
  {
   "cell_type": "code",
   "execution_count": 11,
   "id": "e06eb3da-6d73-4ff0-bcc2-2a5e295e17c4",
   "metadata": {},
   "outputs": [
    {
     "name": "stderr",
     "output_type": "stream",
     "text": [
      "Recycle bin not enabled on this organization. Permanent delete parameter ignored.\n"
     ]
    }
   ],
   "source": [
    "overwrite = True\n",
    "\n",
    "# if the service already exists, remove it\n",
    "existing_lst = gis.content.search(service_name)\n",
    "\n",
    "if len(existing_lst) > 0 and overwrite:\n",
    "    gis.content.delete_items(existing_lst)\n",
    "elif len(existing_lst) > 0:\n",
    "    raise FileExistsError(f'Service \"{service_name}\" already exists in the ArcGIS Online organization.')"
   ]
  },
  {
   "cell_type": "code",
   "execution_count": 12,
   "id": "a28e89e0-b67c-41d0-af6a-e3980c8660c4",
   "metadata": {},
   "outputs": [
    {
     "data": {
      "text/plain": [
       "{'success': True, 'layers': [{'name': 'API_CREATED_POINT_LAYER', 'id': 0}]}"
      ]
     },
     "execution_count": 12,
     "metadata": {},
     "output_type": "execute_result"
    }
   ],
   "source": [
    "## the service name and type to create\n",
    "service_name = \"API_CREATED_SERVICE\"\n",
    "service_type = \"featureService\"\n",
    "\n",
    "## create the feature service\n",
    "empty_service_item = gis.content.create_service(\n",
    "    name = service_name,\n",
    "    service_type = service_type,\n",
    ")\n",
    "\n",
    "fl_definition = {\n",
    "    \"type\" : \"Feature Layer\",\n",
    "    \"name\" : \"API_CREATED_POINT_LAYER\",\n",
    "    \"geometryType\" : \"esriGeometryPolyline\", # esriGeometryPolygon, esriGeometryPolyline, esriGeometryPoint\n",
    "    \"fields\" : [\n",
    "        {\n",
    "            \"name\" : \"OBJECTID\",\n",
    "            \"type\" : \"esriFieldTypeOID\",\n",
    "            \"actualType\" : \"int\",\n",
    "            \"alias\" : \"OBJECTID\",\n",
    "            \"sqlType\" : \"sqlTypeInteger\",\n",
    "            \"nullable\" : False,\n",
    "            \"editable\" : False\n",
    "        },{\n",
    "            \"name\": \"INTEGER_FIELD\",\n",
    "            \"type\": \"esriFieldTypeInteger\",\n",
    "            \"actualType\": \"int\",\n",
    "            \"alias\": \"Integer Field\",\n",
    "            \"sqlType\": \"sqlTypeInteger\",\n",
    "            \"nullable\": True,\n",
    "            \"editable\": True\n",
    "        },{\n",
    "          \"name\": \"STRING_FIELD\",\n",
    "          \"type\": \"esriFieldTypeString\",\n",
    "          \"actualType\": \"nvarchar\",\n",
    "          \"alias\": \"String Field\",\n",
    "          \"sqlType\": \"sqlTypeNVarchar\",\n",
    "          \"length\": 25,\n",
    "          \"nullable\": True,\n",
    "          \"editable\": True\n",
    "        },\n",
    "        {\n",
    "          \"name\": \"DOUBLE_FIELD\",\n",
    "          \"type\": \"esriFieldTypeDouble\",\n",
    "          \"actualType\": \"float\",\n",
    "          \"alias\": \"Decimal Field\",\n",
    "          \"sqlType\": \"sqlTypeFloat\",\n",
    "          \"nullable\": True,\n",
    "          \"editable\": True\n",
    "        },\n",
    "        {\n",
    "          \"name\": \"DATE_FIELD\",\n",
    "          \"type\": \"esriFieldTypeDate\",\n",
    "          \"alias\": \"Date Field\",\n",
    "          \"sqlType\": \"sqlTypeOther\",\n",
    "          \"nullable\": True,\n",
    "          \"editable\": True\n",
    "        }\n",
    "    ],\n",
    "    \"indexes\" : [ # required index for Primary Key\n",
    "        {\n",
    "            \"name\" : \"PK_IDX\",\n",
    "            \"fields\" : \"OBJECTID\",\n",
    "            \"isAscending\" : True,\n",
    "            \"isUnique\" : True,\n",
    "            \"description\" : \"clustered, unique, primary key\"\n",
    "        }\n",
    "    ],\n",
    "    \"objectIdField\" : \"OBJECTID\",\n",
    "    \"uniqueField\" : { # a unique field is required\n",
    "        \"name\" : \"OBJECTID\",\n",
    "        \"isSystemMaintained\" : True\n",
    "    },\n",
    "    \"spatialReference\" : {\n",
    "        \"wkid\" : 4326,\n",
    "    }, \n",
    "}\n",
    "\n",
    "## Create a FeatureLayerCollection object from the Item object\n",
    "flc = FeatureLayerCollection.fromitem(empty_service_item)\n",
    "\n",
    "## Update the JSON definition of the Service to include the layer\n",
    "flc.manager.add_to_definition({\"layers\": [fl_definition]})"
   ]
  },
  {
   "cell_type": "code",
   "execution_count": 13,
   "id": "3526149c-cd05-468e-84c1-99fac157a64c",
   "metadata": {},
   "outputs": [
    {
     "data": {
      "text/html": [
       "<div class=\"item_container\" style=\"height: auto; overflow: hidden; border: 1px solid #cfcfcf; border-radius: 2px; background: #f6fafa; line-height: 1.21429em; padding: 10px;\">\n",
       "                    <div class=\"item_left\" style=\"width: 210px; float: left;\">\n",
       "                       <a href='https://adventure.maps.arcgis.com/home/item.html?id=5cccef5bf19a475cbfe8d6408e6f04e4' target='_blank'>\n",
       "                        <img src='http://static.arcgis.com/images/desktopapp.png' class=\"itemThumbnail\">\n",
       "                       </a>\n",
       "                    </div>\n",
       "\n",
       "                    <div class=\"item_right\"     style=\"float: none; width: auto; overflow: hidden;\">\n",
       "                        <a href='https://adventure.maps.arcgis.com/home/item.html?id=5cccef5bf19a475cbfe8d6408e6f04e4' target='_blank'><b>API_CREATED_SERVICE</b>\n",
       "                        </a>\n",
       "                        <br/><br/><img src='https://adventure.maps.arcgis.com/home/js/jsapi/esri/css/images/item_type_icons/featureshosted16.png' style=\"vertical-align:middle;\" width=16 height=16>Feature Layer Collection by jmccune_personal\n",
       "                        <br/>Last Modified: May 09, 2025\n",
       "                        <br/>0 comments, 0 views\n",
       "                    </div>\n",
       "                </div>\n",
       "                "
      ],
      "text/plain": [
       "<Item title:\"API_CREATED_SERVICE\" type:Feature Layer Collection owner:jmccune_personal>"
      ]
     },
     "execution_count": 13,
     "metadata": {},
     "output_type": "execute_result"
    }
   ],
   "source": [
    "empty_service_item"
   ]
  },
  {
   "cell_type": "code",
   "execution_count": null,
   "id": "db49e8f5-2446-4917-8ce6-fbd8c810bca2",
   "metadata": {},
   "outputs": [],
   "source": []
  }
 ],
 "metadata": {
  "kernelspec": {
   "display_name": "Python 3 (ipykernel)",
   "language": "python",
   "name": "python3"
  },
  "language_info": {
   "codemirror_mode": {
    "name": "ipython",
    "version": 3
   },
   "file_extension": ".py",
   "mimetype": "text/x-python",
   "name": "python",
   "nbconvert_exporter": "python",
   "pygments_lexer": "ipython3",
   "version": "3.12.10"
  }
 },
 "nbformat": 4,
 "nbformat_minor": 5
}
