{
 "cells": [
  {
   "cell_type": "code",
   "execution_count": 56,
   "id": "833495bf-5ca7-4faa-b940-7fbd20c39bf4",
   "metadata": {},
   "outputs": [],
   "source": [
    "from copy import deepcopy\n",
    "import math\n",
    "from pathlib import Path\n",
    "\n",
    "from arcgis.features import FeatureSet, FeatureLayerCollection\n",
    "from arcgis.geometry import SpatialReference\n",
    "from arcgis.gis import GIS, CreateServiceParameter\n",
    "import pandas as pd\n",
    "\n",
    "from reach_tools import Reach"
   ]
  },
  {
   "cell_type": "code",
   "execution_count": 35,
   "id": "d83be014-9456-44b5-bf25-4f93e5e319fc",
   "metadata": {},
   "outputs": [],
   "source": [
    "raw_dir_pth = Path.cwd().parent / f\"data/raw/american_whitewater/\"\n",
    "url = 'https://adventure.maps.arcgis.com'\n",
    "arcgis_client_id = \"2MonB9785a7oRJEl\""
   ]
  },
  {
   "cell_type": "code",
   "execution_count": 17,
   "id": "a81dec2a-1944-4998-ada1-1c819f382d0f",
   "metadata": {},
   "outputs": [],
   "source": [
    "# get the list of all downloaded reach json files\n",
    "raw_json_lst = sorted(list(raw_dir_pth.glob(\"aw_*.json\")))"
   ]
  },
  {
   "cell_type": "code",
   "execution_count": 18,
   "id": "a90fed96-4a11-4e14-be75-de560a622c34",
   "metadata": {},
   "outputs": [],
   "source": [
    "# get a dictionary of the maximum lengths for all the string columns plus 10 percent rounded up to the next whole integer\n",
    "dict_lst = [{k: len(v) if isinstance(v, str) else None for k, v in Reach.from_aw_json(reach_json).attributes.items()} for reach_json in raw_json_lst]\n",
    "\n",
    "len_dict = pd.DataFrame.from_records(dict_lst).max().dropna().astype(int).apply(lambda val: math.ceil(val * 1.1)).astype(int).to_dict()"
   ]
  },
  {
   "cell_type": "code",
   "execution_count": 29,
   "id": "8249e9f2-9a60-43b7-b8d0-dadce6864112",
   "metadata": {},
   "outputs": [],
   "source": [
    "# get a list of features as dictionary objects\n",
    "feature_lst = [Reach.from_aw_json(reach_json).line_feature.as_dict for reach_json in raw_json_lst]"
   ]
  },
  {
   "cell_type": "code",
   "execution_count": 74,
   "id": "3ac2f721-5632-407e-a981-000bea639882",
   "metadata": {},
   "outputs": [],
   "source": [
    "# creeate a feature set from the list of dictionary objects\n",
    "fs_prop = FeatureSet.from_dict({\n",
    "    \"features\": [feature_lst[0]],\n",
    "    \"spatialReference\": {\"wkid\": 4326}\n",
    "})\n",
    "\n",
    "# add length to the feature set field if a length was found above\n",
    "def add_length(fld: dict) -> dict:\n",
    "    fld_len = len_dict.get(fld['name'])\n",
    "    if fld_len is not None:\n",
    "        fld['length'] = fld_len\n",
    "    return fld\n",
    "\n",
    "fs_prop.fields = [add_length(fld) for fld in fs_prop.fields]"
   ]
  },
  {
   "cell_type": "code",
   "execution_count": 88,
   "id": "36510a68-7881-48d8-88e7-afd70a07b767",
   "metadata": {},
   "outputs": [
    {
     "name": "stdout",
     "output_type": "stream",
     "text": [
      "Please sign in to your GIS and paste the code that is obtained below.\n",
      "If a web browser does not automatically open, please navigate to the URL below yourself instead.\n",
      "Opening web browser to navigate to: https://adventure.maps.arcgis.com/sharing/rest/oauth2/authorize?response_type=code&client_id=2MonB9785a7oRJEl&redirect_uri=urn%3Aietf%3Awg%3Aoauth%3A2.0%3Aoob&state=axGLAP0lwcaD0ID1hbJ3Q48Hn4HD5R&allow_verification=false\n"
     ]
    },
    {
     "name": "stdin",
     "output_type": "stream",
     "text": [
      "Enter code obtained on signing in using SAML:  ········\n"
     ]
    },
    {
     "data": {
      "text/html": [
       "GIS @ <a href=\"https://adventure.maps.arcgis.com\">https://adventure.maps.arcgis.com</a>"
      ],
      "text/plain": [
       "GIS @ https://adventure.maps.arcgis.com version:2025.1"
      ]
     },
     "execution_count": 88,
     "metadata": {},
     "output_type": "execute_result"
    }
   ],
   "source": [
    "gis = GIS(url, client_id=arcgis_client_id)\n",
    "\n",
    "gis"
   ]
  },
  {
   "cell_type": "code",
   "execution_count": 89,
   "id": "bff336fb-181c-4698-a693-74a04e25e4ff",
   "metadata": {},
   "outputs": [],
   "source": [
    "service_name = 'test_feature_service'"
   ]
  },
  {
   "cell_type": "code",
   "execution_count": 90,
   "id": "e2e1c1a4-f61c-433c-9a0e-1906d5a68d16",
   "metadata": {},
   "outputs": [
    {
     "data": {
      "text/html": [
       "<div class=\"item_container\" style=\"height: auto; overflow: hidden; border: 1px solid #cfcfcf; border-radius: 2px; background: #f6fafa; line-height: 1.21429em; padding: 10px;\">\n",
       "                    <div class=\"item_left\" style=\"width: 210px; float: left;\">\n",
       "                       <a href='https://adventure.maps.arcgis.com/home/item.html?id=eb85a2ec590d4cad912515067e6d6f59' target='_blank'>\n",
       "                        <img src='http://static.arcgis.com/images/desktopapp.png' class=\"itemThumbnail\">\n",
       "                       </a>\n",
       "                    </div>\n",
       "\n",
       "                    <div class=\"item_right\"     style=\"float: none; width: auto; overflow: hidden;\">\n",
       "                        <a href='https://adventure.maps.arcgis.com/home/item.html?id=eb85a2ec590d4cad912515067e6d6f59' target='_blank'><b>test_feature_service</b>\n",
       "                        </a>\n",
       "                        <br/><br/><img src='https://adventure.maps.arcgis.com/home/js/jsapi/esri/css/images/item_type_icons/featureshosted16.png' style=\"vertical-align:middle;\" width=16 height=16>Feature Layer Collection by jmccune_personal\n",
       "                        <br/>Last Modified: May 06, 2025\n",
       "                        <br/>0 comments, 0 views\n",
       "                    </div>\n",
       "                </div>\n",
       "                "
      ],
      "text/plain": [
       "<Item title:\"test_feature_service\" type:Feature Layer Collection owner:jmccune_personal>"
      ]
     },
     "execution_count": 90,
     "metadata": {},
     "output_type": "execute_result"
    }
   ],
   "source": [
    "existing_lst = gis.content.search(service_name)\n",
    "\n",
    "if len(existing_lst) > 0:\n",
    "    gis.content.delete_items(existing_lst)\n",
    "\n",
    "new_svc_itm = gis.content.create_service('test_feature_service', service_type='featureService', wkid=4326)\n",
    "\n",
    "new_svc_itm"
   ]
  },
  {
   "cell_type": "code",
   "execution_count": 91,
   "id": "909ba6d7-cb1d-48d1-a7bd-48080ea1283e",
   "metadata": {},
   "outputs": [],
   "source": [
    "flc = FeatureLayerCollection.fromitem(new_svc_itm)"
   ]
  },
  {
   "cell_type": "code",
   "execution_count": 92,
   "id": "d857573a-2d94-42d2-951a-0794b2a9433b",
   "metadata": {},
   "outputs": [],
   "source": [
    "fs_dict = fs_prop.to_dict()"
   ]
  },
  {
   "cell_type": "code",
   "execution_count": 93,
   "id": "296e08cc-40ab-41a5-80e9-3810c93362e7",
   "metadata": {},
   "outputs": [],
   "source": [
    "fs_dict = {k: v for k, v in fs_dict.items() if k != 'features'}"
   ]
  },
  {
   "cell_type": "code",
   "execution_count": 94,
   "id": "5f876198-c562-45a4-8713-d625153850d9",
   "metadata": {},
   "outputs": [],
   "source": [
    "fs_dict[\"uniqueField\"] =  {\"name\" : \"OBJECTID\", \"isSystemMaintained\" : True}"
   ]
  },
  {
   "cell_type": "code",
   "execution_count": 95,
   "id": "062beae3-3081-4150-95b4-f650102ff8ed",
   "metadata": {},
   "outputs": [
    {
     "data": {
      "text/plain": [
       "{'success': True}"
      ]
     },
     "execution_count": 95,
     "metadata": {},
     "output_type": "execute_result"
    }
   ],
   "source": [
    "flc.manager.add_to_definition(fs_dict)"
   ]
  },
  {
   "cell_type": "code",
   "execution_count": null,
   "id": "48de5583-e1b2-4571-9948-b4a5a450a2f9",
   "metadata": {},
   "outputs": [],
   "source": []
  }
 ],
 "metadata": {
  "kernelspec": {
   "display_name": "Python 3 (ipykernel)",
   "language": "python",
   "name": "python3"
  },
  "language_info": {
   "codemirror_mode": {
    "name": "ipython",
    "version": 3
   },
   "file_extension": ".py",
   "mimetype": "text/x-python",
   "name": "python",
   "nbconvert_exporter": "python",
   "pygments_lexer": "ipython3",
   "version": "3.12.10"
  }
 },
 "nbformat": 4,
 "nbformat_minor": 5
}
