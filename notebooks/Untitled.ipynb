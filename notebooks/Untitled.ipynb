{
 "cells": [
  {
   "cell_type": "code",
   "execution_count": 2,
   "id": "349c7c44-40e3-47e0-9488-e0e68b959f45",
   "metadata": {},
   "outputs": [],
   "source": [
    "from arcgis.gis import GIS"
   ]
  },
  {
   "cell_type": "code",
   "execution_count": 5,
   "id": "27512b69-3a5c-48ea-a885-91e0908b78b9",
   "metadata": {},
   "outputs": [],
   "source": [
    "url = 'https://adventure.maps.arcgis.com'\n",
    "arcgis_client_id = \"2MonB9785a7oRJEl\"\n",
    "\n",
    "itm_id = '6f237db9d0404c329bbb2de485f19b3c'"
   ]
  },
  {
   "cell_type": "code",
   "execution_count": 6,
   "id": "cf180fa2-6d32-4343-ad82-aa6b27fc6432",
   "metadata": {},
   "outputs": [
    {
     "name": "stdout",
     "output_type": "stream",
     "text": [
      "Please sign in to your GIS and paste the code that is obtained below.\n",
      "If a web browser does not automatically open, please navigate to the URL below yourself instead.\n",
      "Opening web browser to navigate to: https://adventure.maps.arcgis.com/sharing/rest/oauth2/authorize?response_type=code&client_id=2MonB9785a7oRJEl&redirect_uri=urn%3Aietf%3Awg%3Aoauth%3A2.0%3Aoob&state=t3ivD6j5R5RzWJPBPjci7l3XP3ezNA&allow_verification=false\n"
     ]
    },
    {
     "name": "stdin",
     "output_type": "stream",
     "text": [
      "Enter code obtained on signing in using SAML:  ········\n"
     ]
    },
    {
     "data": {
      "text/html": [
       "GIS @ <a href=\"https://adventure.maps.arcgis.com\">https://adventure.maps.arcgis.com</a>"
      ],
      "text/plain": [
       "GIS @ https://adventure.maps.arcgis.com version:2025.1"
      ]
     },
     "execution_count": 6,
     "metadata": {},
     "output_type": "execute_result"
    }
   ],
   "source": [
    "gis = GIS(url, client_id=arcgis_client_id)\n",
    "\n",
    "gis"
   ]
  },
  {
   "cell_type": "code",
   "execution_count": 9,
   "id": "37fcea88-cba6-4753-bbcf-451f4cbebd48",
   "metadata": {},
   "outputs": [],
   "source": [
    "itm = gis.content.get(itm_id)\n",
    "\n",
    "lyr = itm.layers[0]"
   ]
  },
  {
   "cell_type": "code",
   "execution_count": 12,
   "id": "39cda1b5-8060-49b5-a09e-63f44137dd57",
   "metadata": {},
   "outputs": [
    {
     "data": {
      "text/plain": [
       "<FeatureSet> 1 features"
      ]
     },
     "execution_count": 12,
     "metadata": {},
     "output_type": "execute_result"
    }
   ],
   "source": [
    "fs = lyr.query()\n",
    "\n",
    "fs"
   ]
  },
  {
   "cell_type": "code",
   "execution_count": 13,
   "id": "0420bab1-e6d2-4139-a879-20dd84f7d41e",
   "metadata": {},
   "outputs": [
    {
     "data": {
      "text/plain": [
       "{'features': [{'geometry': {'paths': [[[-12870856.1737675, 6158471.65250669],\n",
       "      [-12834474.5369609, 6083592.02867284]]],\n",
       "    'spatialReference': {'wkid': 102100, 'latestWkid': 3857}},\n",
       "   'attributes': {'OBJECTID': 1,\n",
       "    'Shape__Length': 83250.11448776473,\n",
       "    'name': 'test',\n",
       "    'river_name': 'test river'}}],\n",
       " 'objectIdFieldName': 'OBJECTID',\n",
       " 'globalIdFieldName': '',\n",
       " 'spatialReference': {'wkid': 102100, 'latestWkid': 3857},\n",
       " 'geometryType': 'esriGeometryPolyline',\n",
       " 'fields': [{'name': 'OBJECTID',\n",
       "   'type': 'esriFieldTypeOID',\n",
       "   'alias': 'OBJECTID',\n",
       "   'sqlType': 'sqlTypeOther',\n",
       "   'domain': None,\n",
       "   'defaultValue': None},\n",
       "  {'name': 'Shape__Length',\n",
       "   'type': 'esriFieldTypeDouble',\n",
       "   'alias': 'Shape__Length',\n",
       "   'sqlType': 'sqlTypeDouble',\n",
       "   'domain': None,\n",
       "   'defaultValue': None},\n",
       "  {'name': 'name',\n",
       "   'type': 'esriFieldTypeString',\n",
       "   'alias': 'Name',\n",
       "   'sqlType': 'sqlTypeOther',\n",
       "   'length': 256,\n",
       "   'domain': None,\n",
       "   'defaultValue': None},\n",
       "  {'name': 'river_name',\n",
       "   'type': 'esriFieldTypeString',\n",
       "   'alias': 'Rier Name',\n",
       "   'sqlType': 'sqlTypeOther',\n",
       "   'length': 256,\n",
       "   'domain': None,\n",
       "   'defaultValue': None}]}"
      ]
     },
     "execution_count": 13,
     "metadata": {},
     "output_type": "execute_result"
    }
   ],
   "source": [
    "fs.to_dict()"
   ]
  },
  {
   "cell_type": "code",
   "execution_count": null,
   "id": "529a9112-3b0a-436f-a4b4-8b7d62758ab1",
   "metadata": {},
   "outputs": [],
   "source": []
  }
 ],
 "metadata": {
  "kernelspec": {
   "display_name": "Python 3 (ipykernel)",
   "language": "python",
   "name": "python3"
  },
  "language_info": {
   "codemirror_mode": {
    "name": "ipython",
    "version": 3
   },
   "file_extension": ".py",
   "mimetype": "text/x-python",
   "name": "python",
   "nbconvert_exporter": "python",
   "pygments_lexer": "ipython3",
   "version": "3.12.10"
  }
 },
 "nbformat": 4,
 "nbformat_minor": 5
}
