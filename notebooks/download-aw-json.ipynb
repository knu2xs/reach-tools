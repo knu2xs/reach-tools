{
 "cells": [
  {
   "cell_type": "code",
   "execution_count": 83,
   "id": "bc84b81c-7687-4f17-9e5d-13c0a39f7a7f",
   "metadata": {},
   "outputs": [],
   "source": [
    "import json\n",
    "import logging\n",
    "from pathlib import Path\n",
    "import re\n",
    "\n",
    "from arcgis.geometry import Geometry\n",
    "from tqdm.notebook import tqdm\n",
    "\n",
    "from reach_tools.utils.procure import download_raw_json_from_aw"
   ]
  },
  {
   "cell_type": "code",
   "execution_count": 84,
   "id": "d9c763a5-c99f-4311-a04f-f08863b0fdc3",
   "metadata": {},
   "outputs": [
    {
     "data": {
      "text/plain": [
       "PosixPath('/Users/joel5174/Library/Mobile Documents/com~apple~CloudDocs/projects/reach-tools/data/raw/american_whitewater')"
      ]
     },
     "execution_count": 84,
     "metadata": {},
     "output_type": "execute_result"
    }
   ],
   "source": [
    "dir_data = Path.cwd().parent / 'data'\n",
    "dir_raw = dir_data / 'raw'\n",
    "dir_raw_aw = dir_raw / 'american_whitewater'\n",
    "\n",
    "dir_raw_aw"
   ]
  },
  {
   "cell_type": "code",
   "execution_count": 85,
   "id": "5c3c1631-a2dd-48f6-b6ce-c8a76e6ea50a",
   "metadata": {},
   "outputs": [],
   "source": [
    "logging.basicConfig(level=\"INFO\")"
   ]
  },
  {
   "cell_type": "code",
   "execution_count": 86,
   "id": "987c1911-f3a3-4f44-b726-b3abf0de426e",
   "metadata": {},
   "outputs": [],
   "source": [
    "if not dir_raw_aw.exists():\n",
    "    dir_raw_aw.mkdir(parents=True)"
   ]
  },
  {
   "cell_type": "code",
   "execution_count": 87,
   "id": "17d4326c-37ff-4bf5-b666-d6dc849a02d2",
   "metadata": {},
   "outputs": [],
   "source": [
    "fail_count = 0\n",
    "max_fail = 1000\n",
    "max_range = 10000000"
   ]
  },
  {
   "cell_type": "code",
   "execution_count": null,
   "id": "56b930c4-7cf3-4b0e-a807-0f17d098c3bc",
   "metadata": {
    "scrolled": true
   },
   "outputs": [],
   "source": [
    "existing_reach_id_lst = [int(re.search(r\"aw_(\\d+)\\.json\", pth.name).group(1)) for pth in dir_raw_aw.glob('aw_*.json')]\n",
    "\n",
    "for reach_id in range(1, max_range):\n",
    "\n",
    "    # location for saving the reach json\n",
    "    file_pth = dir_raw_aw / f'aw_{reach_id:08d}.json'\n",
    "\n",
    "    # handle if file already exists\n",
    "    if reach_id in existing_reach_id_lst:\n",
    "        logging.debug(f\"reach_id={reach_id} already exists at {file_pth}\")\n",
    "\n",
    "    else:        \n",
    "        logging.debug(f\"Attempting to download reach_id={reach_id}\")\n",
    "        \n",
    "        try:\n",
    "            # download the data from AW\n",
    "            aw_json = download_raw_json_from_aw(reach_id)\n",
    "    \n",
    "            # if the file exists, clean it out\n",
    "            if file_pth.exists():\n",
    "                file_pth.unlink()\n",
    "    \n",
    "            # save to a local file\n",
    "            with open(file_pth, 'x') as fp:\n",
    "                json.dump(aw_json, fp, indent=2)\n",
    "    \n",
    "            fail_count = 0\n",
    "    \n",
    "            logging.info(f'Downloaded reach_id={reach_id} and saved to {file_pth}')\n",
    "    \n",
    "        except:\n",
    "            fail_count += 1\n",
    "            logging.debug(f'Could not retrieve data for reach_id={reach_id} (fail_count: {fail_count})')\n",
    "            \n",
    "            if fail_count > max_fail:\n",
    "                logging.warning(f'It appears there is not any data for reach_id={reach_id}.')\n",
    "                break"
   ]
  },
  {
   "cell_type": "code",
   "execution_count": 51,
   "id": "7c419e20-cf2f-461c-a0c4-2c552b98712a",
   "metadata": {},
   "outputs": [
    {
     "data": {
      "text/plain": [
       "1372"
      ]
     },
     "execution_count": 51,
     "metadata": {},
     "output_type": "execute_result"
    }
   ],
   "source": [
    "aw_id = int(re.search(r\"aw_(\\d+)\\.json\", pth.name).group(1))\n",
    "\n",
    "aw_id"
   ]
  },
  {
   "cell_type": "code",
   "execution_count": null,
   "id": "5dc510d8-b8c5-465a-aae0-3cfe3eaa1c00",
   "metadata": {},
   "outputs": [],
   "source": [
    "reach_id, json_pth = "
   ]
  },
  {
   "cell_type": "code",
   "execution_count": 58,
   "id": "4f32b3d3-80f6-4127-8192-6ca4171750da",
   "metadata": {},
   "outputs": [],
   "source": [
    "with open(pth, 'r') as json_fl:\n",
    "    aw_json = json.load(json_fl)\n",
    "\n",
    "json_info = aw_json.get('CContainerViewJSON_view').get('CRiverMainGadgetJSON_main').get('info')\n",
    "\n",
    "reach_id = json_info.get('id')\n",
    "river = json_info.get('river')\n",
    "name = json_info.get('section')\n",
    "description = json_info.get('description_md')"
   ]
  },
  {
   "cell_type": "code",
   "execution_count": 60,
   "id": "a1c4b341-026e-40f6-911b-a046564b7242",
   "metadata": {},
   "outputs": [],
   "source": []
  },
  {
   "cell_type": "code",
   "execution_count": 67,
   "id": "94a3a1b6-1b58-492a-8646-80fd80b0344f",
   "metadata": {},
   "outputs": [],
   "source": [
    "geojson = json_info.get('geom')"
   ]
  },
  {
   "cell_type": "code",
   "execution_count": 68,
   "id": "ff82c62c-3765-4024-b46a-8cfc8b1cf747",
   "metadata": {},
   "outputs": [],
   "source": [
    "geometry = Geometry(geojson)"
   ]
  },
  {
   "cell_type": "code",
   "execution_count": 70,
   "id": "6c018d5a-74a3-4f02-a1e9-5160b470cd2a",
   "metadata": {},
   "outputs": [],
   "source": [
    "esri_json = geometry.JSON"
   ]
  },
  {
   "cell_type": "code",
   "execution_count": null,
   "id": "6697d838-7e5a-43a7-b62a-b8489ad465c5",
   "metadata": {},
   "outputs": [],
   "source": []
  }
 ],
 "metadata": {
  "kernelspec": {
   "display_name": "Python 3 (ipykernel)",
   "language": "python",
   "name": "python3"
  },
  "language_info": {
   "codemirror_mode": {
    "name": "ipython",
    "version": 3
   },
   "file_extension": ".py",
   "mimetype": "text/x-python",
   "name": "python",
   "nbconvert_exporter": "python",
   "pygments_lexer": "ipython3",
   "version": "3.12.10"
  }
 },
 "nbformat": 4,
 "nbformat_minor": 5
}
